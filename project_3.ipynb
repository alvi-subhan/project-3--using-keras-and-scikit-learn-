{
  "nbformat": 4,
  "nbformat_minor": 0,
  "metadata": {
    "colab": {
      "name": "project 3.ipynb",
      "version": "0.3.2",
      "views": {},
      "default_view": {},
      "provenance": []
    }
  },
  "cells": [
    {
      "metadata": {
        "id": "qKwMLugjitcv",
        "colab_type": "text"
      },
      "cell_type": "markdown",
      "source": [
        "**Step 1. Project Description**\n",
        "The problem that we will look at in this project is the Boston house price dataset (This dataset is also used in chapter 3 of our text book).\n",
        "\n",
        "We have download the dataset for free and placed it in the project directory with the filename “housing.csv“. You can also directly download the dataset:\n",
        "\n",
        "https://raw.githubusercontent.com/jbrownlee/Datasets/master/housing.data \n",
        "\n",
        "The dataset describes 13 numerical properties of houses in Boston suburbs and is concerned with modeling the price of houses in those suburbs in thousands of dollars. As such, this is a regression predictive modeling problem. Input attributes include things like crime rate, proportion of nonretail business acres, chemical concentrations and more.\n",
        "\n",
        "This is a well-studied problem in machine learning. It is convenient to work with because all of the input and output attributes are numerical and there are 506 instances to work with.\n",
        "\n",
        "Reasonable performance for models evaluated using Mean Squared Error (MSE) are around 20 in squared thousands of dollars (or $4,500 if you take the square root). This is a nice target to aim for with our neural network model.\n",
        "\n",
        "\n"
      ]
    },
    {
      "metadata": {
        "id": "kK7ClCy2i9TB",
        "colab_type": "text"
      },
      "cell_type": "markdown",
      "source": [
        "**Step 2. Develop a Baseline Neural Network Model**\n",
        "In this step we will create a baseline neural network model for the regression problem.\n",
        "\n",
        "Let’s start off by including all of the functions and objects we will need for this tutorial."
      ]
    },
    {
      "metadata": {
        "id": "Dd0S4IaXiMZF",
        "colab_type": "code",
        "colab": {
          "autoexec": {
            "startup": false,
            "wait_interval": 0
          },
          "base_uri": "https://localhost:8080/",
          "height": 17
        },
        "outputId": "a54b1db9-a7a3-4424-92ec-da58a147cfd0",
        "executionInfo": {
          "status": "ok",
          "timestamp": 1530896103246,
          "user_tz": -300,
          "elapsed": 798,
          "user": {
            "displayName": "subhan alvi",
            "photoUrl": "https://lh3.googleusercontent.com/a/default-user=s128",
            "userId": "113587175888217063825"
          }
        }
      },
      "cell_type": "code",
      "source": [
        "import numpy\n",
        "import pandas\n",
        "from keras.models import Sequential\n",
        "from keras.layers import Dense\n",
        "from keras.wrappers.scikit_learn import KerasClassifier\n",
        "from sklearn.model_selection import cross_val_score\n",
        "from sklearn.preprocessing import LabelEncoder\n",
        "from sklearn.model_selection import StratifiedKFold\n",
        "from sklearn.preprocessing import StandardScaler\n",
        "from sklearn.pipeline import Pipeline\n",
        "from sklearn import preprocessing\n",
        "from keras.utils import np_utils\n",
        "from keras.wrappers.scikit_learn import KerasRegressor\n",
        "from sklearn.model_selection import KFold\n"
      ],
      "execution_count": 2,
      "outputs": []
    },
    {
      "metadata": {
        "id": "slVEcaa40z6M",
        "colab_type": "code",
        "colab": {
          "autoexec": {
            "startup": false,
            "wait_interval": 0
          },
          "base_uri": "https://localhost:8080/",
          "height": 17
        },
        "outputId": "12209f4e-b940-455c-a1d5-87507b60cf35",
        "executionInfo": {
          "status": "ok",
          "timestamp": 1530896105208,
          "user_tz": -300,
          "elapsed": 760,
          "user": {
            "displayName": "subhan alvi",
            "photoUrl": "https://lh3.googleusercontent.com/a/default-user=s128",
            "userId": "113587175888217063825"
          }
        }
      },
      "cell_type": "code",
      "source": [
        "from keras import models\n",
        "from keras import layers"
      ],
      "execution_count": 3,
      "outputs": []
    },
    {
      "metadata": {
        "id": "_uauCFjIju3c",
        "colab_type": "code",
        "colab": {
          "autoexec": {
            "startup": false,
            "wait_interval": 0
          },
          "base_uri": "https://localhost:8080/",
          "height": 73
        },
        "outputId": "f9b3bf74-c9b1-4b84-9f7d-77c65689ce04",
        "executionInfo": {
          "status": "ok",
          "timestamp": 1530896139928,
          "user_tz": -300,
          "elapsed": 33031,
          "user": {
            "displayName": "subhan alvi",
            "photoUrl": "https://lh3.googleusercontent.com/a/default-user=s128",
            "userId": "113587175888217063825"
          }
        }
      },
      "cell_type": "code",
      "source": [
        "#uploading csv file\n",
        "\n",
        "from google.colab import files\n",
        "uploaded = files.upload()"
      ],
      "execution_count": 4,
      "outputs": [
        {
          "output_type": "display_data",
          "data": {
            "text/plain": [
              "<IPython.core.display.HTML object>"
            ],
            "text/html": [
              "\n",
              "     <input type=\"file\" id=\"files-4ae462aa-6352-4d99-b532-6957e99dd9fd\" name=\"files[]\" multiple disabled />\n",
              "     <output id=\"result-4ae462aa-6352-4d99-b532-6957e99dd9fd\">\n",
              "      Upload widget is only available when the cell has been executed in the\n",
              "      current browser session. Please rerun this cell to enable.\n",
              "      </output>\n",
              "      <script src=\"/nbextensions/google.colab/files.js\"></script> "
            ]
          },
          "metadata": {
            "tags": []
          }
        },
        {
          "output_type": "stream",
          "text": [
            "Saving housing.csv to housing.csv\n"
          ],
          "name": "stdout"
        }
      ]
    },
    {
      "metadata": {
        "id": "0TCE_PF-lRsz",
        "colab_type": "code",
        "colab": {
          "autoexec": {
            "startup": false,
            "wait_interval": 0
          },
          "base_uri": "https://localhost:8080/",
          "height": 17
        },
        "outputId": "ebf3a5e1-1586-4113-dfb7-67c744c066c9",
        "executionInfo": {
          "status": "ok",
          "timestamp": 1530896161278,
          "user_tz": -300,
          "elapsed": 787,
          "user": {
            "displayName": "subhan alvi",
            "photoUrl": "https://lh3.googleusercontent.com/a/default-user=s128",
            "userId": "113587175888217063825"
          }
        }
      },
      "cell_type": "code",
      "source": [
        "#Importing file\n",
        "\n",
        "import io\n",
        "data = io.BytesIO(uploaded['housing.csv'])"
      ],
      "execution_count": 5,
      "outputs": []
    },
    {
      "metadata": {
        "id": "dXMjwJiSlf2E",
        "colab_type": "code",
        "colab": {
          "autoexec": {
            "startup": false,
            "wait_interval": 0
          },
          "base_uri": "https://localhost:8080/",
          "height": 17
        },
        "outputId": "a3d06b3e-f70f-4dad-af87-fff60f015d86",
        "executionInfo": {
          "status": "ok",
          "timestamp": 1530896163027,
          "user_tz": -300,
          "elapsed": 1007,
          "user": {
            "displayName": "subhan alvi",
            "photoUrl": "https://lh3.googleusercontent.com/a/default-user=s128",
            "userId": "113587175888217063825"
          }
        }
      },
      "cell_type": "code",
      "source": [
        "# load dataset\n",
        "dataframe = pandas.read_csv(\"housing.csv\", delim_whitespace=True, header=None)\n",
        "dataset = dataframe.values\n",
        "# split into input (X) and output (Y) variables\n",
        "X = dataset[:,0:13]\n",
        "Y = dataset[:,13]"
      ],
      "execution_count": 6,
      "outputs": []
    },
    {
      "metadata": {
        "id": "vlr2W7j2lq88",
        "colab_type": "code",
        "colab": {
          "autoexec": {
            "startup": false,
            "wait_interval": 0
          },
          "base_uri": "https://localhost:8080/",
          "height": 348
        },
        "outputId": "0bfd185d-8900-4662-8bb3-195bd0f6b5a0",
        "executionInfo": {
          "status": "ok",
          "timestamp": 1530896164008,
          "user_tz": -300,
          "elapsed": 734,
          "user": {
            "displayName": "subhan alvi",
            "photoUrl": "https://lh3.googleusercontent.com/a/default-user=s128",
            "userId": "113587175888217063825"
          }
        }
      },
      "cell_type": "code",
      "source": [
        "dataframe[:10]"
      ],
      "execution_count": 7,
      "outputs": [
        {
          "output_type": "execute_result",
          "data": {
            "text/html": [
              "<div>\n",
              "<style scoped>\n",
              "    .dataframe tbody tr th:only-of-type {\n",
              "        vertical-align: middle;\n",
              "    }\n",
              "\n",
              "    .dataframe tbody tr th {\n",
              "        vertical-align: top;\n",
              "    }\n",
              "\n",
              "    .dataframe thead th {\n",
              "        text-align: right;\n",
              "    }\n",
              "</style>\n",
              "<table border=\"1\" class=\"dataframe\">\n",
              "  <thead>\n",
              "    <tr style=\"text-align: right;\">\n",
              "      <th></th>\n",
              "      <th>0</th>\n",
              "      <th>1</th>\n",
              "      <th>2</th>\n",
              "      <th>3</th>\n",
              "      <th>4</th>\n",
              "      <th>5</th>\n",
              "      <th>6</th>\n",
              "      <th>7</th>\n",
              "      <th>8</th>\n",
              "      <th>9</th>\n",
              "      <th>10</th>\n",
              "      <th>11</th>\n",
              "      <th>12</th>\n",
              "      <th>13</th>\n",
              "    </tr>\n",
              "  </thead>\n",
              "  <tbody>\n",
              "    <tr>\n",
              "      <th>0</th>\n",
              "      <td>0.00632</td>\n",
              "      <td>18.0</td>\n",
              "      <td>2.31</td>\n",
              "      <td>0</td>\n",
              "      <td>0.538</td>\n",
              "      <td>6.575</td>\n",
              "      <td>65.2</td>\n",
              "      <td>4.0900</td>\n",
              "      <td>1</td>\n",
              "      <td>296.0</td>\n",
              "      <td>15.3</td>\n",
              "      <td>396.90</td>\n",
              "      <td>4.98</td>\n",
              "      <td>24.0</td>\n",
              "    </tr>\n",
              "    <tr>\n",
              "      <th>1</th>\n",
              "      <td>0.02731</td>\n",
              "      <td>0.0</td>\n",
              "      <td>7.07</td>\n",
              "      <td>0</td>\n",
              "      <td>0.469</td>\n",
              "      <td>6.421</td>\n",
              "      <td>78.9</td>\n",
              "      <td>4.9671</td>\n",
              "      <td>2</td>\n",
              "      <td>242.0</td>\n",
              "      <td>17.8</td>\n",
              "      <td>396.90</td>\n",
              "      <td>9.14</td>\n",
              "      <td>21.6</td>\n",
              "    </tr>\n",
              "    <tr>\n",
              "      <th>2</th>\n",
              "      <td>0.02729</td>\n",
              "      <td>0.0</td>\n",
              "      <td>7.07</td>\n",
              "      <td>0</td>\n",
              "      <td>0.469</td>\n",
              "      <td>7.185</td>\n",
              "      <td>61.1</td>\n",
              "      <td>4.9671</td>\n",
              "      <td>2</td>\n",
              "      <td>242.0</td>\n",
              "      <td>17.8</td>\n",
              "      <td>392.83</td>\n",
              "      <td>4.03</td>\n",
              "      <td>34.7</td>\n",
              "    </tr>\n",
              "    <tr>\n",
              "      <th>3</th>\n",
              "      <td>0.03237</td>\n",
              "      <td>0.0</td>\n",
              "      <td>2.18</td>\n",
              "      <td>0</td>\n",
              "      <td>0.458</td>\n",
              "      <td>6.998</td>\n",
              "      <td>45.8</td>\n",
              "      <td>6.0622</td>\n",
              "      <td>3</td>\n",
              "      <td>222.0</td>\n",
              "      <td>18.7</td>\n",
              "      <td>394.63</td>\n",
              "      <td>2.94</td>\n",
              "      <td>33.4</td>\n",
              "    </tr>\n",
              "    <tr>\n",
              "      <th>4</th>\n",
              "      <td>0.06905</td>\n",
              "      <td>0.0</td>\n",
              "      <td>2.18</td>\n",
              "      <td>0</td>\n",
              "      <td>0.458</td>\n",
              "      <td>7.147</td>\n",
              "      <td>54.2</td>\n",
              "      <td>6.0622</td>\n",
              "      <td>3</td>\n",
              "      <td>222.0</td>\n",
              "      <td>18.7</td>\n",
              "      <td>396.90</td>\n",
              "      <td>5.33</td>\n",
              "      <td>36.2</td>\n",
              "    </tr>\n",
              "    <tr>\n",
              "      <th>5</th>\n",
              "      <td>0.02985</td>\n",
              "      <td>0.0</td>\n",
              "      <td>2.18</td>\n",
              "      <td>0</td>\n",
              "      <td>0.458</td>\n",
              "      <td>6.430</td>\n",
              "      <td>58.7</td>\n",
              "      <td>6.0622</td>\n",
              "      <td>3</td>\n",
              "      <td>222.0</td>\n",
              "      <td>18.7</td>\n",
              "      <td>394.12</td>\n",
              "      <td>5.21</td>\n",
              "      <td>28.7</td>\n",
              "    </tr>\n",
              "    <tr>\n",
              "      <th>6</th>\n",
              "      <td>0.08829</td>\n",
              "      <td>12.5</td>\n",
              "      <td>7.87</td>\n",
              "      <td>0</td>\n",
              "      <td>0.524</td>\n",
              "      <td>6.012</td>\n",
              "      <td>66.6</td>\n",
              "      <td>5.5605</td>\n",
              "      <td>5</td>\n",
              "      <td>311.0</td>\n",
              "      <td>15.2</td>\n",
              "      <td>395.60</td>\n",
              "      <td>12.43</td>\n",
              "      <td>22.9</td>\n",
              "    </tr>\n",
              "    <tr>\n",
              "      <th>7</th>\n",
              "      <td>0.14455</td>\n",
              "      <td>12.5</td>\n",
              "      <td>7.87</td>\n",
              "      <td>0</td>\n",
              "      <td>0.524</td>\n",
              "      <td>6.172</td>\n",
              "      <td>96.1</td>\n",
              "      <td>5.9505</td>\n",
              "      <td>5</td>\n",
              "      <td>311.0</td>\n",
              "      <td>15.2</td>\n",
              "      <td>396.90</td>\n",
              "      <td>19.15</td>\n",
              "      <td>27.1</td>\n",
              "    </tr>\n",
              "    <tr>\n",
              "      <th>8</th>\n",
              "      <td>0.21124</td>\n",
              "      <td>12.5</td>\n",
              "      <td>7.87</td>\n",
              "      <td>0</td>\n",
              "      <td>0.524</td>\n",
              "      <td>5.631</td>\n",
              "      <td>100.0</td>\n",
              "      <td>6.0821</td>\n",
              "      <td>5</td>\n",
              "      <td>311.0</td>\n",
              "      <td>15.2</td>\n",
              "      <td>386.63</td>\n",
              "      <td>29.93</td>\n",
              "      <td>16.5</td>\n",
              "    </tr>\n",
              "    <tr>\n",
              "      <th>9</th>\n",
              "      <td>0.17004</td>\n",
              "      <td>12.5</td>\n",
              "      <td>7.87</td>\n",
              "      <td>0</td>\n",
              "      <td>0.524</td>\n",
              "      <td>6.004</td>\n",
              "      <td>85.9</td>\n",
              "      <td>6.5921</td>\n",
              "      <td>5</td>\n",
              "      <td>311.0</td>\n",
              "      <td>15.2</td>\n",
              "      <td>386.71</td>\n",
              "      <td>17.10</td>\n",
              "      <td>18.9</td>\n",
              "    </tr>\n",
              "  </tbody>\n",
              "</table>\n",
              "</div>"
            ],
            "text/plain": [
              "        0     1     2   3      4      5      6       7   8      9     10  \\\n",
              "0  0.00632  18.0  2.31   0  0.538  6.575   65.2  4.0900   1  296.0  15.3   \n",
              "1  0.02731   0.0  7.07   0  0.469  6.421   78.9  4.9671   2  242.0  17.8   \n",
              "2  0.02729   0.0  7.07   0  0.469  7.185   61.1  4.9671   2  242.0  17.8   \n",
              "3  0.03237   0.0  2.18   0  0.458  6.998   45.8  6.0622   3  222.0  18.7   \n",
              "4  0.06905   0.0  2.18   0  0.458  7.147   54.2  6.0622   3  222.0  18.7   \n",
              "5  0.02985   0.0  2.18   0  0.458  6.430   58.7  6.0622   3  222.0  18.7   \n",
              "6  0.08829  12.5  7.87   0  0.524  6.012   66.6  5.5605   5  311.0  15.2   \n",
              "7  0.14455  12.5  7.87   0  0.524  6.172   96.1  5.9505   5  311.0  15.2   \n",
              "8  0.21124  12.5  7.87   0  0.524  5.631  100.0  6.0821   5  311.0  15.2   \n",
              "9  0.17004  12.5  7.87   0  0.524  6.004   85.9  6.5921   5  311.0  15.2   \n",
              "\n",
              "       11     12    13  \n",
              "0  396.90   4.98  24.0  \n",
              "1  396.90   9.14  21.6  \n",
              "2  392.83   4.03  34.7  \n",
              "3  394.63   2.94  33.4  \n",
              "4  396.90   5.33  36.2  \n",
              "5  394.12   5.21  28.7  \n",
              "6  395.60  12.43  22.9  \n",
              "7  396.90  19.15  27.1  \n",
              "8  386.63  29.93  16.5  \n",
              "9  386.71  17.10  18.9  "
            ]
          },
          "metadata": {
            "tags": []
          },
          "execution_count": 7
        }
      ]
    },
    {
      "metadata": {
        "id": "fom0iHV0luzZ",
        "colab_type": "code",
        "colab": {
          "autoexec": {
            "startup": false,
            "wait_interval": 0
          },
          "base_uri": "https://localhost:8080/",
          "height": 35
        },
        "outputId": "7b9358c7-814a-4b61-dbec-25e81e1400d5",
        "executionInfo": {
          "status": "ok",
          "timestamp": 1530896165107,
          "user_tz": -300,
          "elapsed": 780,
          "user": {
            "displayName": "subhan alvi",
            "photoUrl": "https://lh3.googleusercontent.com/a/default-user=s128",
            "userId": "113587175888217063825"
          }
        }
      },
      "cell_type": "code",
      "source": [
        "Y[:10]"
      ],
      "execution_count": 8,
      "outputs": [
        {
          "output_type": "execute_result",
          "data": {
            "text/plain": [
              "array([24. , 21.6, 34.7, 33.4, 36.2, 28.7, 22.9, 27.1, 16.5, 18.9])"
            ]
          },
          "metadata": {
            "tags": []
          },
          "execution_count": 8
        }
      ]
    },
    {
      "metadata": {
        "id": "c8UnqaJKlyNC",
        "colab_type": "code",
        "colab": {
          "autoexec": {
            "startup": false,
            "wait_interval": 0
          },
          "base_uri": "https://localhost:8080/",
          "height": 17
        },
        "outputId": "ae6f3d16-0e8a-474d-ff3b-1eaa84889242",
        "executionInfo": {
          "status": "ok",
          "timestamp": 1530896376532,
          "user_tz": -300,
          "elapsed": 1084,
          "user": {
            "displayName": "subhan alvi",
            "photoUrl": "https://lh3.googleusercontent.com/a/default-user=s128",
            "userId": "113587175888217063825"
          }
        }
      },
      "cell_type": "code",
      "source": [
        "def baseline_model():\n",
        "    # Because we will need to instantiate\n",
        "    # the same model multiple times,\n",
        "    # we use a function to construct it.\n",
        "    model = models.Sequential()\n",
        "    model.add(layers.Dense(13, activation='relu',\n",
        "                           input_shape=(13,)))\n",
        "    model.add(layers.Dense(1))\n",
        "    model.compile(optimizer='rmsprop', loss='mse', metrics=['mae'])\n",
        "    return model"
      ],
      "execution_count": 11,
      "outputs": []
    },
    {
      "metadata": {
        "id": "Cscjyxn5BXIm",
        "colab_type": "code",
        "colab": {
          "autoexec": {
            "startup": false,
            "wait_interval": 0
          },
          "base_uri": "https://localhost:8080/",
          "height": 17
        },
        "outputId": "b0d49b21-3552-45bc-ff68-5ba12de168d2",
        "executionInfo": {
          "status": "ok",
          "timestamp": 1530896378536,
          "user_tz": -300,
          "elapsed": 769,
          "user": {
            "displayName": "subhan alvi",
            "photoUrl": "https://lh3.googleusercontent.com/a/default-user=s128",
            "userId": "113587175888217063825"
          }
        }
      },
      "cell_type": "code",
      "source": [
        "# fix random seed for reproducibility\n",
        "seed = 7\n",
        "numpy.random.seed(seed)\n",
        "# evaluate model with standardized dataset\n",
        "estimator = KerasRegressor(build_fn=baseline_model, epochs=100, batch_size=5, verbose=0)\n"
      ],
      "execution_count": 12,
      "outputs": []
    },
    {
      "metadata": {
        "id": "LEOmRuW2Cz5l",
        "colab_type": "code",
        "colab": {
          "autoexec": {
            "startup": false,
            "wait_interval": 0
          },
          "base_uri": "https://localhost:8080/",
          "height": 35
        },
        "outputId": "1d27526a-b69a-41ba-e81e-e51a9cc71ec8",
        "executionInfo": {
          "status": "ok",
          "timestamp": 1530896474322,
          "user_tz": -300,
          "elapsed": 94582,
          "user": {
            "displayName": "subhan alvi",
            "photoUrl": "https://lh3.googleusercontent.com/a/default-user=s128",
            "userId": "113587175888217063825"
          }
        }
      },
      "cell_type": "code",
      "source": [
        "kfold = KFold(n_splits=10, random_state=seed)\n",
        "results = cross_val_score(estimator, X, Y, cv=kfold)\n",
        "print(\"Results: %.2f (%.2f) MSE\" % (results.mean(), results.std()))\n"
      ],
      "execution_count": 13,
      "outputs": [
        {
          "output_type": "stream",
          "text": [
            "Results: -41.19 (22.58) MSE\n"
          ],
          "name": "stdout"
        }
      ]
    },
    {
      "metadata": {
        "id": "Ahwiw1Q1Erru",
        "colab_type": "text"
      },
      "cell_type": "markdown",
      "source": [
        "**Step 3: Modeling The Standardized Dataset**"
      ]
    },
    {
      "metadata": {
        "id": "c8Rb1Pl1D35k",
        "colab_type": "code",
        "colab": {
          "autoexec": {
            "startup": false,
            "wait_interval": 0
          },
          "base_uri": "https://localhost:8080/",
          "height": 34
        },
        "outputId": "194ecf56-4e66-413e-e9ae-cac37a3e7f81",
        "executionInfo": {
          "status": "ok",
          "timestamp": 1530784230980,
          "user_tz": -300,
          "elapsed": 60814,
          "user": {
            "displayName": "subhan alvi",
            "photoUrl": "https://lh3.googleusercontent.com/a/default-user=s128",
            "userId": "113587175888217063825"
          }
        }
      },
      "cell_type": "code",
      "source": [
        "# evaluate model with standardized dataset\n",
        "numpy.random.seed(seed)\n",
        "estimators = []\n",
        "estimators.append(('standardize', StandardScaler()))\n",
        "estimators.append(('mlp', KerasRegressor(build_fn=baseline_model, epochs=50, batch_size=5, verbose=0)))\n",
        "pipeline = Pipeline(estimators)\n",
        "kfold = KFold(n_splits=10, random_state=seed)\n",
        "results = cross_val_score(pipeline, X, Y, cv=kfold)\n",
        "print(\"Standardized: %.2f (%.2f) MSE\" % (results.mean(), results.std()))\n"
      ],
      "execution_count": 14,
      "outputs": [
        {
          "output_type": "stream",
          "text": [
            "Standardized: -26.99 (35.63) MSE\n"
          ],
          "name": "stdout"
        }
      ]
    },
    {
      "metadata": {
        "id": "eiT_F3N1HXOl",
        "colab_type": "text"
      },
      "cell_type": "markdown",
      "source": [
        "**Extension of Step 3:**\n",
        "A further extension of this step is to similarly apply a rescaling to the output variable such as\n",
        "normalizing it to the range of 0-1 and use a Sigmoid or similar activation function on the\n",
        "output layer to narrow output predictions to the same range."
      ]
    },
    {
      "metadata": {
        "id": "Gi-_9eKvGjN-",
        "colab_type": "code",
        "colab": {
          "autoexec": {
            "startup": false,
            "wait_interval": 0
          },
          "base_uri": "https://localhost:8080/",
          "height": 37
        },
        "outputId": "764a044e-a445-49cd-9d4a-52f757050675",
        "executionInfo": {
          "status": "ok",
          "timestamp": 1530784372945,
          "user_tz": -300,
          "elapsed": 1582,
          "user": {
            "displayName": "subhan alvi",
            "photoUrl": "https://lh3.googleusercontent.com/a/default-user=s128",
            "userId": "113587175888217063825"
          }
        }
      },
      "cell_type": "code",
      "source": [
        "  #output is going to be in the rangge of 0 to 1\n",
        "  \n",
        "  def baseline_model():\n",
        "    # Because we will need to instantiate\n",
        "    # the same model multiple times,\n",
        "    # we use a function to construct it.\n",
        "    model = models.Sequential()\n",
        "    model.add(layers.Dense(13, activation='relu',\n",
        "                           input_shape=(13,)))\n",
        "    model.add(layers.Dense(1,activation='sigmoid'))\n",
        "    model.compile(optimizer='rmsprop', loss='mse', metrics=['mae'])\n",
        "    return model"
      ],
      "execution_count": 17,
      "outputs": []
    },
    {
      "metadata": {
        "id": "jjR6Yvtb2jeZ",
        "colab_type": "code",
        "colab": {
          "autoexec": {
            "startup": false,
            "wait_interval": 0
          },
          "base_uri": "https://localhost:8080/",
          "height": 34
        },
        "outputId": "376b0a1f-e600-4e00-fed8-5ca9ff0581c2",
        "executionInfo": {
          "status": "ok",
          "timestamp": 1530784441211,
          "user_tz": -300,
          "elapsed": 67001,
          "user": {
            "displayName": "subhan alvi",
            "photoUrl": "https://lh3.googleusercontent.com/a/default-user=s128",
            "userId": "113587175888217063825"
          }
        }
      },
      "cell_type": "code",
      "source": [
        "# evaluate model with standardized dataset and the output is in the range of 0-1\n",
        "numpy.random.seed(seed)\n",
        "estimators = []\n",
        "estimators.append(('standardize', StandardScaler()))\n",
        "estimators.append(('mlp', KerasRegressor(build_fn=baseline_model, epochs=50, batch_size=5, verbose=0)))\n",
        "pipeline = Pipeline(estimators)\n",
        "kfold = KFold(n_splits=10, random_state=seed)\n",
        "results = cross_val_score(pipeline, X, Y, cv=kfold)\n",
        "print(\"Standardized: %.2f (%.2f) MSE\" % (results.mean(), results.std()))\n"
      ],
      "execution_count": 18,
      "outputs": [
        {
          "output_type": "stream",
          "text": [
            "Standardized: -546.50 (276.40) MSE\n"
          ],
          "name": "stdout"
        }
      ]
    },
    {
      "metadata": {
        "id": "y5vowtWm3hj7",
        "colab_type": "text"
      },
      "cell_type": "markdown",
      "source": [
        "**Step 4. Tune The Neural Network Topology\n",
        "**"
      ]
    },
    {
      "metadata": {
        "id": "X3c_zwGZ3ksD",
        "colab_type": "text"
      },
      "cell_type": "markdown",
      "source": [
        "***Step 4.1. Evaluate a Deeper Network Topology***"
      ]
    },
    {
      "metadata": {
        "id": "BTFN9x3K2yIc",
        "colab_type": "code",
        "colab": {
          "autoexec": {
            "startup": false,
            "wait_interval": 0
          },
          "base_uri": "https://localhost:8080/",
          "height": 37
        },
        "outputId": "35be3663-d427-4fce-b9cf-fd45d9a80edb",
        "executionInfo": {
          "status": "ok",
          "timestamp": 1530784722999,
          "user_tz": -300,
          "elapsed": 827,
          "user": {
            "displayName": "subhan alvi",
            "photoUrl": "https://lh3.googleusercontent.com/a/default-user=s128",
            "userId": "113587175888217063825"
          }
        }
      },
      "cell_type": "code",
      "source": [
        "def larger_model():\n",
        "\t# create model\n",
        "  model = models.Sequential()\n",
        "  model.add(layers.Dense(13, activation='relu',\n",
        "                         input_shape=(13,)))\n",
        "  model.add(layers.Dense(6,activation='relu'))\n",
        "  model.add(layers.Dense(1))\n",
        "  \n",
        "\t# Compile model\n",
        "  model.compile(optimizer='rmsprop', loss='mse', metrics=['mae'])\n",
        "  return model\n",
        "\n"
      ],
      "execution_count": 21,
      "outputs": []
    },
    {
      "metadata": {
        "id": "MaBh1E0o4JME",
        "colab_type": "code",
        "colab": {
          "autoexec": {
            "startup": false,
            "wait_interval": 0
          },
          "base_uri": "https://localhost:8080/",
          "height": 34
        },
        "outputId": "fb20ba11-d44f-4fde-8626-1170140bf423",
        "executionInfo": {
          "status": "ok",
          "timestamp": 1530784812281,
          "user_tz": -300,
          "elapsed": 73663,
          "user": {
            "displayName": "subhan alvi",
            "photoUrl": "https://lh3.googleusercontent.com/a/default-user=s128",
            "userId": "113587175888217063825"
          }
        }
      },
      "cell_type": "code",
      "source": [
        "numpy.random.seed(seed)\n",
        "estimators = []\n",
        "estimators.append(('standardize', StandardScaler()))\n",
        "estimators.append(('mlp', KerasRegressor(build_fn=larger_model, epochs=50, batch_size=5, verbose=0)))\n",
        "pipeline = Pipeline(estimators)\n",
        "kfold = KFold(n_splits=10, random_state=seed)\n",
        "results = cross_val_score(pipeline, X, Y, cv=kfold)\n",
        "print(\"Larger: %.2f (%.2f) MSE\" % (results.mean(), results.std()))"
      ],
      "execution_count": 22,
      "outputs": [
        {
          "output_type": "stream",
          "text": [
            "Larger: -24.52 (35.48) MSE\n"
          ],
          "name": "stdout"
        }
      ]
    },
    {
      "metadata": {
        "id": "Vd4bNZVF4cQ7",
        "colab_type": "text"
      },
      "cell_type": "markdown",
      "source": [
        "***Step 4.2. Evaluate a Wider Network Topology***"
      ]
    },
    {
      "metadata": {
        "id": "auVyia7y4Wqu",
        "colab_type": "code",
        "colab": {
          "autoexec": {
            "startup": false,
            "wait_interval": 0
          },
          "base_uri": "https://localhost:8080/",
          "height": 17
        },
        "outputId": "f422493f-19a8-4a38-87e2-2fd654274938",
        "executionInfo": {
          "status": "ok",
          "timestamp": 1530785017198,
          "user_tz": -300,
          "elapsed": 701,
          "user": {
            "displayName": "subhan alvi",
            "photoUrl": "https://lh3.googleusercontent.com/a/default-user=s128",
            "userId": "113587175888217063825"
          }
        }
      },
      "cell_type": "code",
      "source": [
        "# define wider model\n",
        "def wider_model():\n",
        "  model = models.Sequential()\n",
        "  model.add(layers.Dense(20, activation='relu',\n",
        "                         input_shape=(13,)))\n",
        "  model.add(layers.Dense(1))\n",
        "  model.compile(optimizer='rmsprop', loss='mse', metrics=['mae'])\n",
        "  return model"
      ],
      "execution_count": 26,
      "outputs": []
    },
    {
      "metadata": {
        "id": "ST1hnOme5KiV",
        "colab_type": "code",
        "colab": {
          "autoexec": {
            "startup": false,
            "wait_interval": 0
          },
          "base_uri": "https://localhost:8080/",
          "height": 34
        },
        "outputId": "a9e8a64c-b1f8-4682-f4e6-181dffc9ca1a",
        "executionInfo": {
          "status": "ok",
          "timestamp": 1530785163570,
          "user_tz": -300,
          "elapsed": 130361,
          "user": {
            "displayName": "subhan alvi",
            "photoUrl": "https://lh3.googleusercontent.com/a/default-user=s128",
            "userId": "113587175888217063825"
          }
        }
      },
      "cell_type": "code",
      "source": [
        "numpy.random.seed(seed)\n",
        "estimators = []\n",
        "estimators.append(('standardize', StandardScaler()))\n",
        "estimators.append(('mlp', KerasRegressor(build_fn=wider_model, epochs=100, batch_size=5, verbose=0)))\n",
        "pipeline = Pipeline(estimators)\n",
        "kfold = KFold(n_splits=10, random_state=seed)\n",
        "results = cross_val_score(pipeline, X, Y, cv=kfold)\n",
        "print(\"Wider: %.2f (%.2f) MSE\" % (results.mean(), results.std()))"
      ],
      "execution_count": 27,
      "outputs": [
        {
          "output_type": "stream",
          "text": [
            "Wider: -21.13 (22.34) MSE\n"
          ],
          "name": "stdout"
        }
      ]
    },
    {
      "metadata": {
        "id": "B3O5sJbS8CMa",
        "colab_type": "code",
        "colab": {
          "autoexec": {
            "startup": false,
            "wait_interval": 0
          },
          "base_uri": "https://localhost:8080/",
          "height": 68
        },
        "outputId": "3740682e-6edf-45da-8c9a-9dfe297b876c",
        "executionInfo": {
          "status": "ok",
          "timestamp": 1530785775237,
          "user_tz": -300,
          "elapsed": 668,
          "user": {
            "displayName": "subhan alvi",
            "photoUrl": "https://lh3.googleusercontent.com/a/default-user=s128",
            "userId": "113587175888217063825"
          }
        }
      },
      "cell_type": "code",
      "source": [
        "results"
      ],
      "execution_count": 31,
      "outputs": [
        {
          "output_type": "execute_result",
          "data": {
            "text/plain": [
              "array([ -9.47291831,  -9.27974036, -15.09825179, -30.52734585,\n",
              "       -12.45906943,  -9.84783289,  -4.02700531, -84.90277891,\n",
              "       -19.51676261, -16.16688589])"
            ]
          },
          "metadata": {
            "tags": []
          },
          "execution_count": 31
        }
      ]
    },
    {
      "metadata": {
        "id": "nV7AC0LX52i4",
        "colab_type": "text"
      },
      "cell_type": "markdown",
      "source": [
        "**Step 5. Really Scaling up: developing a model that overfits\n",
        "**"
      ]
    },
    {
      "metadata": {
        "id": "GOAEpIyb5el5",
        "colab_type": "code",
        "colab": {
          "autoexec": {
            "startup": false,
            "wait_interval": 0
          },
          "base_uri": "https://localhost:8080/",
          "height": 37
        },
        "outputId": "8982b67b-0362-436d-9151-c5620164facc",
        "executionInfo": {
          "status": "ok",
          "timestamp": 1530792374625,
          "user_tz": -300,
          "elapsed": 339037,
          "user": {
            "displayName": "subhan alvi",
            "photoUrl": "https://lh3.googleusercontent.com/a/default-user=s128",
            "userId": "113587175888217063825"
          }
        }
      },
      "cell_type": "code",
      "source": [
        "import numpy as np\n",
        "val_loss=[]\n",
        "train_loss=[]\n",
        "mean_absolute_error=[]\n",
        "val_mean_absolute_error=[]\n",
        "np.random.seed(seed)\n",
        "num_of_epochs=200\n",
        "def model_define():\n",
        "  model = models.Sequential()\n",
        "  model.add(layers.Dense(20, activation='relu',\n",
        "                         input_shape=(13,)))\n",
        "  model.add(layers.Dense(10,activation='relu'))\n",
        "  model.add(layers.Dense(6,activation='relu'))\n",
        "  model.add(layers.Dense(1))\n",
        "  \n",
        "\t# Compile model\n",
        "  model.compile(optimizer='rmsprop', loss='mse', metrics=['mae'])\n",
        "  return model\n",
        "kfold = KFold(n_splits=10, random_state=seed)\n",
        "#kfold.splits(X,Y)\n",
        "for train_index , test_index in kfold.split(X,Y):\n",
        "    model=model_define()\n",
        "    history=model.fit(X[train_index],Y[train_index],epochs=num_of_epochs,batch_size=5,verbose=0,\n",
        "                     validation_data=(X[test_index],Y[test_index]))\n",
        "    val_loss.append(history.history['val_loss'])\n",
        "    train_loss.append(history.history['loss'])\n",
        "    mean_absolute_error.append(history.history['mean_absolute_error'])\n",
        "\n",
        "    val_mean_absolute_error.append(history.history['val_mean_absolute_error'])"
      ],
      "execution_count": 69,
      "outputs": []
    },
    {
      "metadata": {
        "id": "mKrVUbFZAJSM",
        "colab_type": "code",
        "colab": {
          "autoexec": {
            "startup": false,
            "wait_interval": 0
          },
          "base_uri": "https://localhost:8080/",
          "height": 34
        },
        "outputId": "f71365d0-bca7-40cb-d601-4257cc4c26d1",
        "executionInfo": {
          "status": "ok",
          "timestamp": 1530792415024,
          "user_tz": -300,
          "elapsed": 882,
          "user": {
            "displayName": "subhan alvi",
            "photoUrl": "https://lh3.googleusercontent.com/a/default-user=s128",
            "userId": "113587175888217063825"
          }
        }
      },
      "cell_type": "code",
      "source": [
        "print(\"validation loss is :\",np.mean(np.mean(val_loss,axis=0)))"
      ],
      "execution_count": 71,
      "outputs": [
        {
          "output_type": "stream",
          "text": [
            "('validation loss is :', 47.311366706238104)\n"
          ],
          "name": "stdout"
        }
      ]
    },
    {
      "metadata": {
        "id": "4I8kHthrAVqN",
        "colab_type": "code",
        "colab": {
          "autoexec": {
            "startup": false,
            "wait_interval": 0
          },
          "base_uri": "https://localhost:8080/",
          "height": 376
        },
        "outputId": "4a5462a1-512c-4e07-e1cc-606f02be8ec2",
        "executionInfo": {
          "status": "ok",
          "timestamp": 1530792417766,
          "user_tz": -300,
          "elapsed": 1278,
          "user": {
            "displayName": "subhan alvi",
            "photoUrl": "https://lh3.googleusercontent.com/a/default-user=s128",
            "userId": "113587175888217063825"
          }
        }
      },
      "cell_type": "code",
      "source": [
        "import matplotlib.pyplot as plt\n",
        "\n",
        "epochs= range(1,num_of_epochs + 1)\n",
        "\n",
        "# b is for \"solid blue line\"\n",
        "plt.plot(epochs, np.mean(val_mean_absolute_error,axis=0), 'b', label='val_mean_absolute_error')\n",
        "# bo is for \"blue dot\"\n",
        "plt.plot(epochs,np.mean(mean_absolute_error,axis=0), 'r', label='training')\n",
        "plt.title('training and validation mean absolute error')\n",
        "plt.xlabel('epochs')\n",
        "plt.ylabel('mean absolute error')\n",
        "plt.legend()\n",
        "\n",
        "plt.show()"
      ],
      "execution_count": 72,
      "outputs": [
        {
          "output_type": "display_data",
          "data": {
            "image/png": "[encoded data removed]",
            "text/plain": [
              "<matplotlib.figure.Figure at 0x7ff0530bcbd0>"
            ]
          },
          "metadata": {
            "tags": []
          }
        }
      ]
    },
    {
      "metadata": {
        "id": "6QWg5IA7D3bn",
        "colab_type": "code",
        "colab": {
          "autoexec": {
            "startup": false,
            "wait_interval": 0
          },
          "base_uri": "https://localhost:8080/",
          "height": 376
        },
        "outputId": "269c117f-62ed-48d1-eadd-ebb9386c5ee3",
        "executionInfo": {
          "status": "ok",
          "timestamp": 1530792421607,
          "user_tz": -300,
          "elapsed": 1092,
          "user": {
            "displayName": "subhan alvi",
            "photoUrl": "https://lh3.googleusercontent.com/a/default-user=s128",
            "userId": "113587175888217063825"
          }
        }
      },
      "cell_type": "code",
      "source": [
        "import matplotlib.pyplot as plt\n",
        "\n",
        "epochs= range(1,num_of_epochs + 1)\n",
        "\n",
        "# b is for \"solid blue line\"\n",
        "plt.plot(epochs, np.mean(val_loss,axis=0), 'b', label='validation loss')\n",
        "# bo is for \"blue dot\"\n",
        "plt.plot(epochs,np.mean(train_loss,axis=0), 'r', label='training')\n",
        "plt.title('training and validation loss')\n",
        "plt.xlabel('epochs')\n",
        "plt.ylabel('loss')\n",
        "plt.legend()\n",
        "\n",
        "plt.show()"
      ],
      "execution_count": 73,
      "outputs": [
        {
          "output_type": "display_data",
          "data": {
            "image/png": "[encoded data removed]",
            "text/plain": [
              "<matplotlib.figure.Figure at 0x7ff04e28a410>"
            ]
          },
          "metadata": {
            "tags": []
          }
        }
      ]
    },
    {
      "metadata": {
        "id": "fSWW5PVpT9Qe",
        "colab_type": "text"
      },
      "cell_type": "markdown",
      "source": [
        "**Step 6. Tuning the Model\n",
        "**"
      ]
    },
    {
      "metadata": {
        "id": "0uBLTA1kEVHa",
        "colab_type": "code",
        "colab": {
          "autoexec": {
            "startup": false,
            "wait_interval": 0
          },
          "base_uri": "https://localhost:8080/",
          "height": 37
        },
        "outputId": "1b8561cf-d46e-45f2-a69a-d50d11a533b8",
        "executionInfo": {
          "status": "ok",
          "timestamp": 1530792547577,
          "user_tz": -300,
          "elapsed": 121346,
          "user": {
            "displayName": "subhan alvi",
            "photoUrl": "https://lh3.googleusercontent.com/a/default-user=s128",
            "userId": "113587175888217063825"
          }
        }
      },
      "cell_type": "code",
      "source": [
        "import numpy as np\n",
        "val_loss=[]\n",
        "train_loss=[]\n",
        "mean_absolute_error=[]\n",
        "val_mean_absolute_error=[]\n",
        "np.random.seed(seed)\n",
        "num_of_epochs=50\n",
        "def model_define():\n",
        "  model = models.Sequential()\n",
        "  model.add(layers.Dense(20, activation='relu',\n",
        "                         input_shape=(13,)))\n",
        "  model.add(layers.Dense(10,activation='relu'))\n",
        "  model.add(layers.Dense(6,activation='relu'))\n",
        "  model.add(layers.Dense(1))\n",
        "  \n",
        "\t# Compile model\n",
        "  model.compile(optimizer='rmsprop', loss='mse', metrics=['mae'])\n",
        "  return model\n",
        "kfold = KFold(n_splits=10, random_state=seed)\n",
        "#kfold.splits(X,Y)\n",
        "for train_index , test_index in kfold.split(X,Y):\n",
        "    model=model_define()\n",
        "    history=model.fit(X[train_index],Y[train_index],epochs=num_of_epochs,batch_size=5,verbose=0,\n",
        "                     validation_data=(X[test_index],Y[test_index]))\n",
        "    val_loss.append(history.history['val_loss'])\n",
        "    train_loss.append(history.history['loss'])\n",
        "    mean_absolute_error.append(history.history['mean_absolute_error'])\n",
        "\n",
        "    val_mean_absolute_error.append(history.history['val_mean_absolute_error'])"
      ],
      "execution_count": 74,
      "outputs": []
    },
    {
      "metadata": {
        "id": "V9ps38DeRNgC",
        "colab_type": "code",
        "colab": {
          "autoexec": {
            "startup": false,
            "wait_interval": 0
          },
          "base_uri": "https://localhost:8080/",
          "height": 34
        },
        "outputId": "5961b598-8c68-4834-8749-3e8751ae2531",
        "executionInfo": {
          "status": "ok",
          "timestamp": 1530792548653,
          "user_tz": -300,
          "elapsed": 679,
          "user": {
            "displayName": "subhan alvi",
            "photoUrl": "https://lh3.googleusercontent.com/a/default-user=s128",
            "userId": "113587175888217063825"
          }
        }
      },
      "cell_type": "code",
      "source": [
        "print(\"validation loss is :\",np.mean(np.mean(val_loss,axis=0)))"
      ],
      "execution_count": 75,
      "outputs": [
        {
          "output_type": "stream",
          "text": [
            "('validation loss is :', 59.04994804142561)\n"
          ],
          "name": "stdout"
        }
      ]
    },
    {
      "metadata": {
        "id": "qsnNbm1nRxSZ",
        "colab_type": "code",
        "colab": {
          "autoexec": {
            "startup": false,
            "wait_interval": 0
          },
          "base_uri": "https://localhost:8080/",
          "height": 376
        },
        "outputId": "addfd53b-e6e1-41ce-acb7-aa27a6db8e10",
        "executionInfo": {
          "status": "ok",
          "timestamp": 1530792550172,
          "user_tz": -300,
          "elapsed": 1116,
          "user": {
            "displayName": "subhan alvi",
            "photoUrl": "https://lh3.googleusercontent.com/a/default-user=s128",
            "userId": "113587175888217063825"
          }
        }
      },
      "cell_type": "code",
      "source": [
        "import matplotlib.pyplot as plt\n",
        "\n",
        "epochs= range(1,num_of_epochs + 1)\n",
        "\n",
        "# b is for \"solid blue line\"\n",
        "plt.plot(epochs, np.mean(val_mean_absolute_error,axis=0), 'b', label='val_mean_absolute_error')\n",
        "# bo is for \"blue dot\"\n",
        "plt.plot(epochs,np.mean(mean_absolute_error,axis=0), 'r', label='training')\n",
        "plt.title('training and validation mean absolute error')\n",
        "plt.xlabel('epochs')\n",
        "plt.ylabel('mean absolute error')\n",
        "plt.legend()\n",
        "\n",
        "plt.show()"
      ],
      "execution_count": 76,
      "outputs": [
        {
          "output_type": "display_data",
          "data": {
            "image/png": "[encoded data removed]",
            "text/plain": [
              "<matplotlib.figure.Figure at 0x7ff04fd10b90>"
            ]
          },
          "metadata": {
            "tags": []
          }
        }
      ]
    },
    {
      "metadata": {
        "id": "7qLC1H2rVcRM",
        "colab_type": "text"
      },
      "cell_type": "markdown",
      "source": [
        "**Step 7. Rewriting the code using the Keras Functional API\n",
        "**"
      ]
    },
    {
      "metadata": {
        "id": "6i0qFIatVedQ",
        "colab_type": "code",
        "colab": {
          "autoexec": {
            "startup": false,
            "wait_interval": 0
          },
          "base_uri": "https://localhost:8080/",
          "height": 34
        },
        "outputId": "31b586ef-cd8e-43bb-e588-dd7845386901",
        "executionInfo": {
          "status": "ok",
          "timestamp": 1530793247278,
          "user_tz": -300,
          "elapsed": 201424,
          "user": {
            "displayName": "subhan alvi",
            "photoUrl": "https://lh3.googleusercontent.com/a/default-user=s128",
            "userId": "113587175888217063825"
          }
        }
      },
      "cell_type": "code",
      "source": [
        "# functional API\n",
        "\n",
        "from sklearn.model_selection import KFold\n",
        "from keras.layers import Input, Dense\n",
        "from keras.models import Model\n",
        "\n",
        "def functional_api():\n",
        "  # This returns a tensor\n",
        "  inputs = Input(shape=(13,))\n",
        "\n",
        "  # a layer instance is callable on a tensor, and returns a tensor\n",
        "  x = Dense(13, activation='relu')(inputs)\n",
        "  predictions = Dense(1)(x)\n",
        "\n",
        "  # This creates a model that includes\n",
        "  # the Input layer and three Dense layers\n",
        "  model = Model(inputs=inputs, outputs=predictions)\n",
        "  model.compile(optimizer='rmsprop',\n",
        "              loss='mse',\n",
        "              metrics=['mae'])\n",
        "  return model\n",
        "\n",
        "\n",
        "numpy.random.seed(seed)\n",
        "estimators = []\n",
        "estimators.append(('standardize', StandardScaler()))\n",
        "estimators.append(('mlp', KerasRegressor(build_fn=functional_api, epochs=100, batch_size=5, verbose=0)))\n",
        "pipeline = Pipeline(estimators)\n",
        "kfold = KFold(n_splits=10, random_state=seed)\n",
        "results = cross_val_score(pipeline, X, Y, cv=kfold)\n",
        "print(\"functional api model with 100 epoch: %.2f%% (%.2f%%)\" % (results.mean()*100, results.std()*100))\n"
      ],
      "execution_count": 79,
      "outputs": [
        {
          "output_type": "stream",
          "text": [
            "functional api with 100 epochs: -25.90 (36.30) MSE\n"
          ],
          "name": "stdout"
        }
      ]
    },
    {
      "metadata": {
        "id": "KHC5Yy9vf47_",
        "colab_type": "text"
      },
      "cell_type": "markdown",
      "source": [
        "**Step 8. Rewriting the code by doing Model Subclassing\n",
        "**"
      ]
    },
    {
      "metadata": {
        "id": "kX7mibkygY9s",
        "colab_type": "code",
        "colab": {
          "autoexec": {
            "startup": false,
            "wait_interval": 0
          },
          "base_uri": "https://localhost:8080/",
          "height": 181
        },
        "outputId": "be5cd49d-a3ac-4c11-8e04-20258f723205",
        "executionInfo": {
          "status": "ok",
          "timestamp": 1530896250967,
          "user_tz": -300,
          "elapsed": 1545,
          "user": {
            "displayName": "subhan alvi",
            "photoUrl": "https://lh3.googleusercontent.com/a/default-user=s128",
            "userId": "113587175888217063825"
          }
        }
      },
      "cell_type": "code",
      "source": [
        "import keras\n",
        "from keras import layers\n",
        "import tensorflow as tf\n",
        "class MyModel(tf.keras.Model):\n",
        "  def __init__(self):\n",
        "    super(MyModel,self).__init__()\n",
        "    self.dense1=tf.keras.layers.Dense(13,activation=\"relu\")\n",
        "    self.dense1=tf.keras.layers.Dense(6,activation=\"relu\")\n",
        "    self.dense2=tf.keras.layers.Dense(1)\n",
        "  \n",
        "  def call(self,inputs):\n",
        "    x=self.dense1(inputs)\n",
        "    return self.dense2(x)\n",
        "\n",
        "model=MyModel()\n",
        "model.compile(optimizer='adam',\n",
        "              loss='binary_crossentropy',\n",
        "              metrics=['accuracy'])\n",
        "\n",
        "hist=model.fit(X,Y,epochs=4,batch_size=5)\n",
        "hist\n",
        "\n"
      ],
      "execution_count": 10,
      "outputs": [
        {
          "output_type": "stream",
          "text": [
            "Epoch 1/4\n",
            "506/506 [==============================] - 0s 491us/step - loss: -343.2843 - acc: 0.0000e+00\n",
            "Epoch 2/4\n",
            "506/506 [==============================] - 0s 191us/step - loss: -343.2843 - acc: 0.0000e+00\n",
            "Epoch 3/4\n",
            "506/506 [==============================] - 0s 187us/step - loss: -343.2843 - acc: 0.0000e+00\n",
            "Epoch 4/4\n",
            "506/506 [==============================] - 0s 175us/step - loss: -343.2843 - acc: 0.0000e+00\n"
          ],
          "name": "stdout"
        },
        {
          "output_type": "execute_result",
          "data": {
            "text/plain": [
              "<tensorflow.python.keras.callbacks.History at 0x7f97dec6ff50>"
            ]
          },
          "metadata": {
            "tags": []
          },
          "execution_count": 10
        }
      ]
    },
    {
      "metadata": {
        "id": "_tq0t2IOZRRp",
        "colab_type": "text"
      },
      "cell_type": "markdown",
      "source": [
        "**Step 9. Rewriting the code without using scikit-learn\n",
        "**"
      ]
    },
    {
      "metadata": {
        "id": "9imU8HuQWk3K",
        "colab_type": "code",
        "colab": {
          "autoexec": {
            "startup": false,
            "wait_interval": 0
          },
          "base_uri": "https://localhost:8080/",
          "height": 37
        },
        "outputId": "41312576-e6c9-413c-e32f-0dfbdc5ff7d2",
        "executionInfo": {
          "status": "ok",
          "timestamp": 1530793723905,
          "user_tz": -300,
          "elapsed": 808,
          "user": {
            "displayName": "subhan alvi",
            "photoUrl": "https://lh3.googleusercontent.com/a/default-user=s128",
            "userId": "113587175888217063825"
          }
        }
      },
      "cell_type": "code",
      "source": [
        "def keras_only():\n",
        "    # Because we will need to instantiate\n",
        "    # the same model multiple times,\n",
        "    # we use a function to construct it.\n",
        "    model = models.Sequential()\n",
        "    model.add(layers.Dense(13, activation='relu',\n",
        "                           input_shape=(13,)))\n",
        "    model.add(layers.Dense(1))\n",
        "    model.compile(optimizer='rmsprop', loss='mse', metrics=['mae'])\n",
        "    return model"
      ],
      "execution_count": 80,
      "outputs": []
    },
    {
      "metadata": {
        "id": "CumoiYiEaoKh",
        "colab_type": "code",
        "colab": {
          "autoexec": {
            "startup": false,
            "wait_interval": 0
          },
          "base_uri": "https://localhost:8080/",
          "height": 187
        },
        "outputId": "9254604e-8d58-470a-fe96-eaca85fe99ce",
        "executionInfo": {
          "status": "ok",
          "timestamp": 1530796344477,
          "user_tz": -300,
          "elapsed": 457751,
          "user": {
            "displayName": "subhan alvi",
            "photoUrl": "https://lh3.googleusercontent.com/a/default-user=s128",
            "userId": "113587175888217063825"
          }
        }
      },
      "cell_type": "code",
      "source": [
        "# k fold code\n",
        "\n",
        "import numpy as np\n",
        "k =10\n",
        "num_val_samples = len(X) // k\n",
        "num_epochs = 50\n",
        "all_scores = []\n",
        "\n",
        "#following lists have mean values at every k fold\n",
        "val_loss=[]\n",
        "train_loss=[]\n",
        "mean_absolute_error=[]\n",
        "val_mean_absolute_error=[]\n",
        "\n",
        "#following 2 lists have the accuracies for every epoch\n",
        "acc_epoch=[]\n",
        "val_acc_epoch=[]\n",
        "\n",
        "for i in range(k):\n",
        "  print('processing fold #', i)\n",
        "  val_data = X[i * num_val_samples: (i + 1) * num_val_samples]\n",
        "  val_targets = Y[i * num_val_samples: (i + 1) * num_val_samples]\n",
        "  partial_train_data = np.concatenate(\n",
        "  [X[:i * num_val_samples],\n",
        "  X[(i + 1) * num_val_samples:]],\n",
        "  axis=0)\n",
        "  partial_train_targets = np.concatenate(\n",
        "  [Y[:i * num_val_samples],\n",
        "  Y[(i + 1) * num_val_samples:]],\n",
        "  axis=0)\n",
        "  model =keras_only()\n",
        "  hist=model.fit(partial_train_data, partial_train_targets,\n",
        "  epochs=num_epochs, batch_size=1,validation_data=(val_data,val_targets),verbose=0)\n",
        "  \n",
        "  #taking mean of acc and losses for plotting\n",
        "  val_mean_absolute_error.append(np.mean(hist.history[\"val_mean_absolute_error\"]))\n",
        "  val_loss.append(np.mean(hist.history[\"loss\"]))\n",
        "\n",
        "  mean_absolute_error.append(np.mean(hist.history[\"mean_absolute_error\"]))\n",
        "  train_loss.append(np.mean(hist.history[\"loss\"]))\n",
        "  \n",
        "  acc_epoch.append(hist.history[\"mean_absolute_error\"])\n",
        "  val_acc_epoch.append(hist.history[\"val_mean_absolute_error\"])\n",
        "  "
      ],
      "execution_count": 83,
      "outputs": [
        {
          "output_type": "stream",
          "text": [
            "('processing fold #', 0)\n",
            "('processing fold #', 1)\n",
            "('processing fold #', 2)\n",
            "('processing fold #', 3)\n",
            "('processing fold #', 4)\n",
            "('processing fold #', 5)\n",
            "('processing fold #', 6)\n",
            "('processing fold #', 7)\n",
            "('processing fold #', 8)\n",
            "('processing fold #', 9)\n"
          ],
          "name": "stdout"
        }
      ]
    },
    {
      "metadata": {
        "id": "x5Pz8be7bmgs",
        "colab_type": "code",
        "colab": {
          "autoexec": {
            "startup": false,
            "wait_interval": 0
          }
        }
      },
      "cell_type": "code",
      "source": [
        ""
      ],
      "execution_count": 0,
      "outputs": []
    }
  ]
}